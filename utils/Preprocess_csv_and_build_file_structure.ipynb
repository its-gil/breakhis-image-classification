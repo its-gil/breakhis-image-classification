{
 "cells": [
  {
   "cell_type": "markdown",
   "metadata": {
    "id": "Pj5p7GJYg7VL"
   },
   "source": [
    "# Create the corrected, detailed .csv file with relative paths\n"
   ]
  },
  {
   "cell_type": "markdown",
   "metadata": {
    "id": "vyc_axYI2BvE"
   },
   "source": [
    "### Imports"
   ]
  },
  {
   "cell_type": "code",
   "execution_count": 1,
   "metadata": {
    "colab": {
     "base_uri": "https://localhost:8080/"
    },
    "executionInfo": {
     "elapsed": 24859,
     "status": "ok",
     "timestamp": 1734179846991,
     "user": {
      "displayName": "Michał Wójcik",
      "userId": "08591631202502653658"
     },
     "user_tz": 0
    },
    "id": "DrXLtj31g2F-",
    "outputId": "30f0a91e-62f2-434c-aa92-3f69a9f1f803"
   },
   "outputs": [],
   "source": [
    "import pandas as pd\n",
    "\n",
    "# Mount drive, if necessary\n",
    "# from google.colab import drive\n",
    "# drive.mount('/content/drive')"
   ]
  },
  {
   "cell_type": "markdown",
   "metadata": {
    "id": "nQ3wsq0FjuK-"
   },
   "source": [
    "### Fix missing values in the file"
   ]
  },
  {
   "cell_type": "code",
   "execution_count": null,
   "metadata": {
    "colab": {
     "base_uri": "https://localhost:8080/",
     "height": 424
    },
    "executionInfo": {
     "elapsed": 1709,
     "status": "ok",
     "timestamp": 1734179848695,
     "user": {
      "displayName": "Michał Wójcik",
      "userId": "08591631202502653658"
     },
     "user_tz": 0
    },
    "id": "0m_78zqLibPX",
    "outputId": "8c81f437-6fb2-4987-ad5d-3bd59bcc213b"
   },
   "outputs": [],
   "source": [
    "# load the data\n",
    "imageDataframe = pd.read_csv('../dataset_index/image_data.csv')\n",
    "imageDataframe"
   ]
  },
  {
   "cell_type": "code",
   "execution_count": null,
   "metadata": {
    "colab": {
     "base_uri": "https://localhost:8080/",
     "height": 143
    },
    "executionInfo": {
     "elapsed": 58,
     "status": "ok",
     "timestamp": 1734179848696,
     "user": {
      "displayName": "Michał Wójcik",
      "userId": "08591631202502653658"
     },
     "user_tz": 0
    },
    "id": "7ou4wplRijTd",
    "outputId": "b2d88a33-d781-4b8b-9450-8e30e9de5ed9"
   },
   "outputs": [],
   "source": [
    "# check for missing values in the column Benign or Malignant\n",
    "imageDataframe[imageDataframe['Benign or Malignant'].isnull()]"
   ]
  },
  {
   "cell_type": "code",
   "execution_count": 4,
   "metadata": {
    "id": "_Fk3qmOljiay"
   },
   "outputs": [],
   "source": [
    "# we see that all the missing values from the Benign or Malignant column are actually Malignant cancers (filename)\n",
    "imageDataframe['Benign or Malignant'] = imageDataframe['Benign or Malignant'].fillna('Malignant')"
   ]
  },
  {
   "cell_type": "code",
   "execution_count": null,
   "metadata": {
    "colab": {
     "base_uri": "https://localhost:8080/",
     "height": 175
    },
    "executionInfo": {
     "elapsed": 53,
     "status": "ok",
     "timestamp": 1734179848699,
     "user": {
      "displayName": "Michał Wójcik",
      "userId": "08591631202502653658"
     },
     "user_tz": 0
    },
    "id": "9FW8NhyEjl2D",
    "outputId": "4b9a6817-1352-4d8f-a1bc-6bb4004a4a3b"
   },
   "outputs": [],
   "source": [
    "# check for missing values in the column Cancer Type\n",
    "imageDataframe[imageDataframe['Cancer Type'].isnull()]"
   ]
  },
  {
   "cell_type": "code",
   "execution_count": 6,
   "metadata": {
    "id": "K1IsiLldjo66"
   },
   "outputs": [],
   "source": [
    "# we fill all missing values with Mucinous Carcinoma\n",
    "imageDataframe['Cancer Type'] = imageDataframe['Cancer Type'].fillna('Mucinous Carcinoma')\n",
    "\n",
    "# and the one at position 4536 is overwritten with the correct value\n",
    "imageDataframe.iloc[4536, 2] = 'Ductal Carcinoma'"
   ]
  },
  {
   "cell_type": "code",
   "execution_count": null,
   "metadata": {
    "colab": {
     "base_uri": "https://localhost:8080/",
     "height": 175
    },
    "executionInfo": {
     "elapsed": 48,
     "status": "ok",
     "timestamp": 1734179848700,
     "user": {
      "displayName": "Michał Wójcik",
      "userId": "08591631202502653658"
     },
     "user_tz": 0
    },
    "id": "BWjGG_Rbjq86",
    "outputId": "e998a964-0ad6-42ef-8b4c-71c30d416ba3"
   },
   "outputs": [],
   "source": [
    "# check where there is no magnification value\n",
    "imageDataframe[imageDataframe['Magnification'].isnull()]"
   ]
  },
  {
   "cell_type": "code",
   "execution_count": 8,
   "metadata": {
    "id": "AUG3jcxIjs_w"
   },
   "outputs": [],
   "source": [
    "# and fill the magnification accordingly\n",
    "imageDataframe.iloc[2871, 3] = '100X'\n",
    "imageDataframe.iloc[3093, 3] = '200X'\n",
    "imageDataframe.iloc[3228, 3] = '400X'\n",
    "imageDataframe.iloc[4536, 3] = '40X'"
   ]
  },
  {
   "cell_type": "code",
   "execution_count": null,
   "metadata": {
    "colab": {
     "base_uri": "https://localhost:8080/",
     "height": 210
    },
    "executionInfo": {
     "elapsed": 45,
     "status": "ok",
     "timestamp": 1734179848701,
     "user": {
      "displayName": "Michał Wójcik",
      "userId": "08591631202502653658"
     },
     "user_tz": 0
    },
    "id": "jvy9WjlmoGhP",
    "outputId": "2b2d0d71-db7e-4227-9ace-2189e65c3a90"
   },
   "outputs": [],
   "source": [
    "# check results for inconsistencies\n",
    "imageDataframe.isna().sum()"
   ]
  },
  {
   "cell_type": "markdown",
   "metadata": {
    "id": "c-Ugfqf7kZst"
   },
   "source": [
    "### Add relative path to the files"
   ]
  },
  {
   "cell_type": "code",
   "execution_count": null,
   "metadata": {
    "colab": {
     "base_uri": "https://localhost:8080/",
     "height": 615
    },
    "executionInfo": {
     "elapsed": 41,
     "status": "ok",
     "timestamp": 1734179848701,
     "user": {
      "displayName": "Michał Wójcik",
      "userId": "08591631202502653658"
     },
     "user_tz": 0
    },
    "id": "9UYh9kf5kYyE",
    "outputId": "c150854a-5d73-43fd-f630-e72ae19c142d"
   },
   "outputs": [],
   "source": [
    "# take the file name and put it into a separate column\n",
    "imageDataframe[\"file_name\"] = imageDataframe[\"path_to_image\"].str.split(\"/\").str[-1]\n",
    "\n",
    "# the relative path will point to the temporary tmp folder\n",
    "imageDataframe['rel_path'] = imageDataframe['file_name'].apply(lambda x: '/tmp/' + x)\n",
    "\n",
    "imageDataframe"
   ]
  },
  {
   "cell_type": "code",
   "execution_count": null,
   "metadata": {
    "colab": {
     "base_uri": "https://localhost:8080/",
     "height": 272
    },
    "executionInfo": {
     "elapsed": 37,
     "status": "ok",
     "timestamp": 1734179848701,
     "user": {
      "displayName": "Michał Wójcik",
      "userId": "08591631202502653658"
     },
     "user_tz": 0
    },
    "id": "lt_LCnohoit-",
    "outputId": "a69b07f6-cdd9-4797-b1f2-899be1c2dde1"
   },
   "outputs": [],
   "source": [
    "# check again for inconsistencies\n",
    "imageDataframe.isna().sum()"
   ]
  },
  {
   "cell_type": "markdown",
   "metadata": {
    "id": "5NFZLrc91rYZ"
   },
   "source": [
    "### Save .csv file"
   ]
  },
  {
   "cell_type": "code",
   "execution_count": 12,
   "metadata": {
    "id": "ljpVj6OdvWdX"
   },
   "outputs": [],
   "source": [
    "# save the new CSV\n",
    "imageDataframe.to_csv('../dataset_index/processed_image_data.csv', index = False)"
   ]
  },
  {
   "cell_type": "markdown",
   "metadata": {
    "id": "0elO43qHH-Xh"
   },
   "source": [
    "# Build file structure for running the model\n",
    "\n"
   ]
  },
  {
   "cell_type": "code",
   "execution_count": null,
   "metadata": {
    "colab": {
     "base_uri": "https://localhost:8080/"
    },
    "executionInfo": {
     "elapsed": 5722877,
     "status": "ok",
     "timestamp": 1734187212567,
     "user": {
      "displayName": "Michał Wójcik",
      "userId": "08591631202502653658"
     },
     "user_tz": 0
    },
    "id": "F3slSMDsPG35",
    "outputId": "a566fdec-e23c-4412-9339-c615f22762f4"
   },
   "outputs": [],
   "source": [
    "from tqdm import tqdm\n",
    "from PIL import Image\n",
    "import os\n",
    "import concurrent.futures\n",
    "\n",
    "# DEFINE THE WORKSPACE DIRECTORY, THE DATASET BreaKHis MUST BE DOWNLOADED AND EXTRACTED HERE\n",
    "workspace_dir = 'PATH/TO/WORKSPACE/WHERE/DATASET/IS/STORED'\n",
    "\n",
    "# output directory\n",
    "output_dir = '../images_plain'\n",
    "os.makedirs(output_dir, exist_ok = True)\n",
    "\n",
    "# function to read, resize and save the images\n",
    "def process_and_save_image(row):\n",
    "    input_path = os.path.join(workspace_dir, row.path_to_image)\n",
    "    output_path = os.path.join(output_dir, row.file_name)\n",
    "    try:\n",
    "        with Image.open(input_path) as img:\n",
    "            img = img.resize((256, 256))\n",
    "            img.save(output_path)\n",
    "    except Exception as e:\n",
    "        pass\n",
    "\n",
    "# for faster iteration, itertuples are used\n",
    "rows = imageDataframe.itertuples(index=False)\n",
    "\n",
    "# for parallel processing, the ThreadPoolExecutor is used\n",
    "with concurrent.futures.ThreadPoolExecutor() as executor:\n",
    "\n",
    "    # for a more user-friendly interface, the executor.map is wrapped with tqdm for a progress bar\n",
    "    list(tqdm(executor.map(process_and_save_image, rows), total = len(imageDataframe)))"
   ]
  }
 ],
 "metadata": {
  "colab": {
   "collapsed_sections": [
    "Pj5p7GJYg7VL",
    "vyc_axYI2BvE",
    "nQ3wsq0FjuK-",
    "c-Ugfqf7kZst",
    "5NFZLrc91rYZ",
    "0elO43qHH-Xh"
   ],
   "provenance": []
  },
  "kernelspec": {
   "display_name": "dlenv",
   "language": "python",
   "name": "python3"
  },
  "language_info": {
   "codemirror_mode": {
    "name": "ipython",
    "version": 3
   },
   "file_extension": ".py",
   "mimetype": "text/x-python",
   "name": "python",
   "nbconvert_exporter": "python",
   "pygments_lexer": "ipython3",
   "version": "3.12.5"
  }
 },
 "nbformat": 4,
 "nbformat_minor": 0
}
